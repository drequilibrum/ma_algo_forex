{
 "cells": [
  {
   "cell_type": "code",
   "execution_count": 1,
   "metadata": {},
   "outputs": [],
   "source": [
    "import json\n",
    "import oandapyV20\n",
    "from oandapyV20 import API    # the client\n",
    "import oandapyV20.endpoints.instruments as instruments\n",
    "import oandapyV20.endpoints.pricing as pricing\n",
    "import pandas as pd\n",
    "import numpy as np\n",
    "import mplcyberpunk\n",
    "import matplotlib.pyplot as plt\n",
    "from datetime import datetime, timedelta\n",
    "plt.style.use(\"cyberpunk\")"
   ]
  },
  {
   "cell_type": "code",
   "execution_count": 2,
   "metadata": {},
   "outputs": [],
   "source": [
    "ACCESS_TOKEN = \"4aa51e7711418ba1aa356b835fab3afd-53be4f4d5aa21768bf421b354527dc96\"\n",
    "ACCOUNT_ID = \"101-004-16909090-001\"\n",
    "client = API(access_token=ACCESS_TOKEN)"
   ]
  },
  {
   "cell_type": "code",
   "execution_count": 9,
   "metadata": {},
   "outputs": [],
   "source": [
    "def get_prices(count: int, from_date: str, instrument: str = \"EUR_USD\", granularity: str = \"H1\"):  \n",
    "  params = {\n",
    "    \"count\": count,\n",
    "    \"granularity\": granularity,\n",
    "    \"from\": from_date,\n",
    "    }\n",
    "  r = instruments.InstrumentsCandles(instrument=instrument, params=params)\n",
    "  return client.request(r)\n",
    "\n",
    "\n",
    "def make_df(data: dict):\n",
    "  data = pd.DataFrame(data[\"candles\"])\n",
    "  candles = pd.json_normalize(data[\"mid\"]).rename(columns={\"o\": \"open\", \"h\": \"high\", \"l\": \"low\", \"c\": \"close\"})\n",
    "  data = data.join(candles, how = \"left\").drop([\"mid\"], axis = 1)\n",
    "  data[\"time\"] = pd.to_datetime(data[\"time\"])\n",
    "  data = data.apply(lambda x: x.astype(float) if x.name in [\"open\", \"high\", \"low\", \"close\"] else x, axis = 0)\n",
    "  return data\n",
    "\n",
    "def get_from_time(hour_diff: int = 5, day_diff: int = 0):\n",
    "  if datetime.now().weekday() not in [5, 6] or day_diff != 0:\n",
    "    return (datetime.now().replace(microsecond=0,second=0,minute=0) - timedelta(hours=hour_diff) - timedelta(days=day_diff)).strftime(\"%Y-%m-%dT%H:%M:%S.%fZ\")\n",
    "  else: return \"Market is closed on weekends.\"\n"
   ]
  },
  {
   "cell_type": "code",
   "execution_count": 31,
   "metadata": {},
   "outputs": [
    {
     "name": "stdout",
     "output_type": "stream",
     "text": [
      "2024-05-24T09:00:00.000000Z\n"
     ]
    }
   ],
   "source": [
    "from_time = get_from_time(day_diff=2)\n",
    "print(from_time)\n",
    "data = make_df(\n",
    "    get_prices(5, from_time)\n",
    "    )"
   ]
  },
  {
   "cell_type": "code",
   "execution_count": 32,
   "metadata": {},
   "outputs": [
    {
     "data": {
      "text/html": [
       "<div>\n",
       "<style scoped>\n",
       "    .dataframe tbody tr th:only-of-type {\n",
       "        vertical-align: middle;\n",
       "    }\n",
       "\n",
       "    .dataframe tbody tr th {\n",
       "        vertical-align: top;\n",
       "    }\n",
       "\n",
       "    .dataframe thead th {\n",
       "        text-align: right;\n",
       "    }\n",
       "</style>\n",
       "<table border=\"1\" class=\"dataframe\">\n",
       "  <thead>\n",
       "    <tr style=\"text-align: right;\">\n",
       "      <th></th>\n",
       "      <th>complete</th>\n",
       "      <th>volume</th>\n",
       "      <th>time</th>\n",
       "      <th>open</th>\n",
       "      <th>high</th>\n",
       "      <th>low</th>\n",
       "      <th>close</th>\n",
       "    </tr>\n",
       "  </thead>\n",
       "  <tbody>\n",
       "    <tr>\n",
       "      <th>0</th>\n",
       "      <td>True</td>\n",
       "      <td>1641</td>\n",
       "      <td>2024-05-24 09:00:00+00:00</td>\n",
       "      <td>1.08246</td>\n",
       "      <td>1.08318</td>\n",
       "      <td>1.08237</td>\n",
       "      <td>1.08288</td>\n",
       "    </tr>\n",
       "    <tr>\n",
       "      <th>1</th>\n",
       "      <td>True</td>\n",
       "      <td>1835</td>\n",
       "      <td>2024-05-24 10:00:00+00:00</td>\n",
       "      <td>1.08285</td>\n",
       "      <td>1.08443</td>\n",
       "      <td>1.08276</td>\n",
       "      <td>1.08404</td>\n",
       "    </tr>\n",
       "    <tr>\n",
       "      <th>2</th>\n",
       "      <td>True</td>\n",
       "      <td>1932</td>\n",
       "      <td>2024-05-24 11:00:00+00:00</td>\n",
       "      <td>1.08402</td>\n",
       "      <td>1.08430</td>\n",
       "      <td>1.08345</td>\n",
       "      <td>1.08409</td>\n",
       "    </tr>\n",
       "    <tr>\n",
       "      <th>3</th>\n",
       "      <td>True</td>\n",
       "      <td>4697</td>\n",
       "      <td>2024-05-24 12:00:00+00:00</td>\n",
       "      <td>1.08410</td>\n",
       "      <td>1.08538</td>\n",
       "      <td>1.08376</td>\n",
       "      <td>1.08513</td>\n",
       "    </tr>\n",
       "    <tr>\n",
       "      <th>4</th>\n",
       "      <td>True</td>\n",
       "      <td>4424</td>\n",
       "      <td>2024-05-24 13:00:00+00:00</td>\n",
       "      <td>1.08514</td>\n",
       "      <td>1.08536</td>\n",
       "      <td>1.08420</td>\n",
       "      <td>1.08426</td>\n",
       "    </tr>\n",
       "  </tbody>\n",
       "</table>\n",
       "</div>"
      ],
      "text/plain": [
       "   complete  volume                      time     open     high      low  \\\n",
       "0      True    1641 2024-05-24 09:00:00+00:00  1.08246  1.08318  1.08237   \n",
       "1      True    1835 2024-05-24 10:00:00+00:00  1.08285  1.08443  1.08276   \n",
       "2      True    1932 2024-05-24 11:00:00+00:00  1.08402  1.08430  1.08345   \n",
       "3      True    4697 2024-05-24 12:00:00+00:00  1.08410  1.08538  1.08376   \n",
       "4      True    4424 2024-05-24 13:00:00+00:00  1.08514  1.08536  1.08420   \n",
       "\n",
       "     close  \n",
       "0  1.08288  \n",
       "1  1.08404  \n",
       "2  1.08409  \n",
       "3  1.08513  \n",
       "4  1.08426  "
      ]
     },
     "execution_count": 32,
     "metadata": {},
     "output_type": "execute_result"
    }
   ],
   "source": [
    "data"
   ]
  },
  {
   "cell_type": "code",
   "execution_count": 29,
   "metadata": {},
   "outputs": [
    {
     "data": {
      "text/plain": [
       "0.00023111111111109552"
      ]
     },
     "execution_count": 29,
     "metadata": {},
     "output_type": "execute_result"
    }
   ],
   "source": [
    "data[\"spread\"] = data[\"close\"].diff()\n",
    "data[\"spread\"].mean()"
   ]
  },
  {
   "cell_type": "code",
   "execution_count": 103,
   "metadata": {},
   "outputs": [
    {
     "data": {
      "text/plain": [
       "datetime.datetime(2024, 5, 26, 12, 6, 12, 305405)"
      ]
     },
     "execution_count": 103,
     "metadata": {},
     "output_type": "execute_result"
    }
   ],
   "source": [
    "datetime.now()"
   ]
  },
  {
   "cell_type": "code",
   "execution_count": 17,
   "metadata": {},
   "outputs": [
    {
     "data": {
      "text/plain": [
       "'2024-05-25T07:00:00.000000Z'"
      ]
     },
     "execution_count": 17,
     "metadata": {},
     "output_type": "execute_result"
    }
   ],
   "source": [
    "get_from_time(day_diff=1)"
   ]
  },
  {
   "cell_type": "code",
   "execution_count": null,
   "metadata": {},
   "outputs": [],
   "source": []
  }
 ],
 "metadata": {
  "kernelspec": {
   "display_name": ".task",
   "language": "python",
   "name": ".task"
  },
  "language_info": {
   "codemirror_mode": {
    "name": "ipython",
    "version": 3
   },
   "file_extension": ".py",
   "mimetype": "text/x-python",
   "name": "python",
   "nbconvert_exporter": "python",
   "pygments_lexer": "ipython3",
   "version": "3.10.11"
  }
 },
 "nbformat": 4,
 "nbformat_minor": 2
}
