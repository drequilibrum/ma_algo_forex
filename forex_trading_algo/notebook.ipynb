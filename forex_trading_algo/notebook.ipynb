{
 "cells": [
  {
   "cell_type": "code",
   "execution_count": 5,
   "metadata": {},
   "outputs": [],
   "source": [
    "import json\n",
    "import oandapyV20\n",
    "from oandapyV20 import API   \n",
    "from oandapyV20.endpoints import instruments, accounts, orders, trades, positions\n",
    "import oandapyV20.endpoints.pricing as pricing\n",
    "import pandas as pd\n",
    "import numpy as np\n",
    "import mplcyberpunk\n",
    "import matplotlib.pyplot as plt\n",
    "from datetime import datetime, timedelta\n",
    "import schedule\n",
    "import time\n",
    "plt.style.use(\"cyberpunk\")"
   ]
  },
  {
   "cell_type": "code",
   "execution_count": 6,
   "metadata": {},
   "outputs": [],
   "source": [
    "ACCESS_TOKEN = \"4aa51e7711418ba1aa356b835fab3afd-53be4f4d5aa21768bf421b354527dc96\"\n",
    "ACCOUNT_ID = \"101-004-16909090-001\"\n",
    "client = API(access_token=ACCESS_TOKEN)"
   ]
  },
  {
   "cell_type": "code",
   "execution_count": 40,
   "metadata": {},
   "outputs": [],
   "source": [
    "def get_prices(to_date: str, count: int = 3,instrument: str = \"EUR_USD\", granularity: str = \"H1\"):  \n",
    "  params = {\n",
    "    \"count\": count,\n",
    "    \"granularity\": granularity,\n",
    "    \"to\": to_date\n",
    "    }\n",
    "  r = instruments.InstrumentsCandles(instrument=instrument, params=params)\n",
    "  return client.request(r)\n",
    "\n",
    "\n",
    "def make_df(data: dict):\n",
    "  data = pd.DataFrame(data[\"candles\"])\n",
    "  candles = pd.json_normalize(data[\"mid\"]).rename(columns={\"o\": \"open\", \"h\": \"high\", \"l\": \"low\", \"c\": \"close\"})\n",
    "  data = data.join(candles, how = \"left\").drop([\"mid\"], axis = 1)\n",
    "  data[\"time\"] = pd.to_datetime(data[\"time\"])\n",
    "  data = data.apply(lambda x: x.astype(float) if x.name in [\"open\", \"high\", \"low\", \"close\"] else x, axis = 0)\n",
    "  return data\n",
    "\n",
    "def get_to_date_in_utc(day_diff: int = 0):\n",
    "    return (datetime.utcnow().replace(microsecond=0,second=0,minute=0) - timedelta(days=day_diff)).strftime(\"%Y-%m-%dT%H:%M:%S.%fZ\")\n",
    "\n",
    "def is_market_open():\n",
    "  return datetime.now().weekday() not in [5, 6]\n",
    "\n",
    "def get_signal(data):\n",
    "  data[\"1h_spread\"] = data[\"close\"].diff()\n",
    "  data[\"ma2\"] = data[\"1h_spread\"].rolling(window=2).mean()\n",
    "  data[\"signal\"] = data[[\"1h_spread\",\"ma2\"]].mean(axis=1)\n",
    "  return np.sign(data[\"signal\"].iloc[-1])\n"
   ]
  },
  {
   "cell_type": "code",
   "execution_count": 8,
   "metadata": {},
   "outputs": [
    {
     "name": "stdout",
     "output_type": "stream",
     "text": [
      "2024-05-24T21:00:00.000000Z\n"
     ]
    }
   ],
   "source": [
    "to_date = get_to_date_in_utc(day_diff=2)\n",
    "print(to_date)\n",
    "data = make_df(\n",
    "    get_prices(to_date=to_date)\n",
    "    )"
   ]
  },
  {
   "cell_type": "code",
   "execution_count": 39,
   "metadata": {},
   "outputs": [],
   "source": [
    "def trade():\n",
    "    if is_market_open():\n",
    "        open_trade_request = trades.OpenTrades(accountID=ACCOUNT_ID)\n",
    "        open_trade = client.request(open_trade_request)\n",
    "        open_trade = open_trade[\"trades\"]\n",
    "        open_trade_request = trades.OpenTrades(accountID=ACCOUNT_ID)\n",
    "        open_trade = client.request(open_trade_request)\n",
    "        open_trade = open_trade[\"trades\"]\n",
    "        if open_trade:\n",
    "            # Get the ID of the first open trade\n",
    "            trade_id = open_trade[0][\"id\"]\n",
    "            current_units = open_trade[0][\"currentUnits\"]\n",
    "            \n",
    "            # Step 2: Close the trade\n",
    "            close_trade_request = trades.TradeClose(accountID=ACCOUNT_ID, tradeID=trade_id)\n",
    "            close_trade_response = client.request(close_trade_request)\n",
    "            \n",
    "            # Print the response\n",
    "            print(f\"Trade closed: {close_trade_response}\")\n",
    "        else:\n",
    "            to_date = get_to_date_in_utc()\n",
    "            data = make_df(\n",
    "                get_prices(to_date=to_date)\n",
    "                )\n",
    "            signal = get_signal(data)\n",
    "            quantity = 10000 if signal > 0 else -10000\n",
    "            # Order details\n",
    "            order_data = {\n",
    "                \"order\": {\n",
    "                    \"instrument\": \"EUR_USD\",  # Replace with your desired instrument\n",
    "                    \"units\": quantity,  # Number of units to buy (positive for buy, negative for sell)\n",
    "                    \"type\": \"MARKET\",  # Order type\n",
    "                    \"positionFill\": \"DEFAULT\"  # Order position fill option\n",
    "                }\n",
    "            }\n",
    "            trade_request = orders.OrderCreate(accountID=ACCOUNT_ID, data=order_data)\n",
    "            trade = client.request(trade_request)\n",
    "            print(f\"Trade opened: {trade}\")"
   ]
  },
  {
   "cell_type": "code",
   "execution_count": 38,
   "metadata": {},
   "outputs": [
    {
     "name": "stdout",
     "output_type": "stream",
     "text": [
      "Trade closed: {'orderCreateTransaction': {'id': '1046', 'accountID': '101-004-16909090-001', 'userID': 16909090, 'batchID': '1046', 'requestID': '97272620288504791', 'time': '2024-05-26T22:43:54.552346218Z', 'type': 'MARKET_ORDER', 'instrument': 'EUR_USD', 'units': '10000', 'timeInForce': 'FOK', 'positionFill': 'REDUCE_ONLY', 'reason': 'TRADE_CLOSE', 'tradeClose': {'units': 'ALL', 'tradeID': '1044'}}, 'orderFillTransaction': {'id': '1047', 'accountID': '101-004-16909090-001', 'userID': 16909090, 'batchID': '1046', 'requestID': '97272620288504791', 'time': '2024-05-26T22:43:54.552346218Z', 'type': 'ORDER_FILL', 'orderID': '1046', 'instrument': 'EUR_USD', 'units': '10000', 'requestedUnits': '10000', 'price': '1.08509', 'pl': '-0.7410', 'quotePL': '-0.80000', 'financing': '0.0000', 'baseFinancing': '0.00000000000000', 'commission': '0.0000', 'accountBalance': '100067.4902', 'gainQuoteHomeConversionFactor': '0.917004211541', 'lossQuoteHomeConversionFactor': '0.92622033427', 'guaranteedExecutionFee': '0.0000', 'quoteGuaranteedExecutionFee': '0', 'halfSpreadCost': '0.3226', 'fullVWAP': '1.08509', 'reason': 'MARKET_ORDER_TRADE_CLOSE', 'tradesClosed': [{'tradeID': '1044', 'units': '10000', 'realizedPL': '-0.7410', 'financing': '0.0000', 'baseFinancing': '0.00000000000000', 'price': '1.08509', 'guaranteedExecutionFee': '0.0000', 'quoteGuaranteedExecutionFee': '0', 'halfSpreadCost': '0.3226'}], 'fullPrice': {'closeoutBid': '1.08496', 'closeoutAsk': '1.08515', 'timestamp': '2024-05-26T22:43:48.577135794Z', 'bids': [{'price': '1.08502', 'liquidity': '1000000'}, {'price': '1.08499', 'liquidity': '2000000'}, {'price': '1.08498', 'liquidity': '2000000'}, {'price': '1.08496', 'liquidity': '5000000'}], 'asks': [{'price': '1.08509', 'liquidity': '1000000'}, {'price': '1.08513', 'liquidity': '2000000'}, {'price': '1.08514', 'liquidity': '2000000'}, {'price': '1.08515', 'liquidity': '5000000'}]}, 'homeConversionFactors': {'gainQuoteHome': {'factor': '0.91700421154117'}, 'lossQuoteHome': {'factor': '0.92622033427023'}, 'gainBaseHome': {'factor': '1'}, 'lossBaseHome': {'factor': '1'}}}, 'relatedTransactionIDs': ['1046', '1047'], 'lastTransactionID': '1047'}\n"
     ]
    }
   ],
   "source": [
    "schedule.every(4).hours.at(\":00\").do(trade)\n",
    "while True:\n",
    "    # Run all pending jobs\n",
    "    schedule.run_pending()\n",
    "    time.sleep(1)"
   ]
  },
  {
   "cell_type": "code",
   "execution_count": 35,
   "metadata": {},
   "outputs": [
    {
     "data": {
      "text/plain": [
       "-10000"
      ]
     },
     "execution_count": 35,
     "metadata": {},
     "output_type": "execute_result"
    }
   ],
   "source": [
    "int(open_trade[0][\"currentUnits\"])"
   ]
  },
  {
   "cell_type": "code",
   "execution_count": null,
   "metadata": {},
   "outputs": [],
   "source": []
  }
 ],
 "metadata": {
  "kernelspec": {
   "display_name": ".task",
   "language": "python",
   "name": ".task"
  },
  "language_info": {
   "codemirror_mode": {
    "name": "ipython",
    "version": 3
   },
   "file_extension": ".py",
   "mimetype": "text/x-python",
   "name": "python",
   "nbconvert_exporter": "python",
   "pygments_lexer": "ipython3",
   "version": "3.10.11"
  }
 },
 "nbformat": 4,
 "nbformat_minor": 2
}
